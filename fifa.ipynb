{
 "cells": [
  {
   "cell_type": "code",
   "execution_count": 63,
   "metadata": {},
   "outputs": [],
   "source": [
    "from os.path import dirname, join\n",
    "from bokeh.models.annotations import Title\n",
    "from bokeh.plotting import figure\n",
    "from bokeh.layouts import layout, column, gridplot, widgetbox\n",
    "from bokeh.models.widgets import DataTable, DateFormatter, TableColumn\n",
    "from bokeh.models import ColumnDataSource, Div, Slider, Select, TextInput, RangeSlider, MultiSelect, CheckboxGroup, AutocompleteInput, Panel, Tabs, HoverTool\n",
    "from bokeh.io import curdoc, output_file, show\n",
    "from bokeh.sampledata.movies_data import movie_path\n",
    "import numpy as np\n",
    "import pandas as pd"
   ]
  },
  {
   "cell_type": "code",
   "execution_count": 59,
   "metadata": {},
   "outputs": [
    {
     "data": {
      "text/plain": [
       "array(['Name', 'Club', 'Country', 'Continent', 'League', 'Overall Rating',\n",
       "       'Position', 'Position Group', 'Skill', 'Weak Foot', 'Work Rate',\n",
       "       'Pace', 'Shooting', 'Passing', 'Dribbling', 'Defending',\n",
       "       'Physicality', 'Height', 'Base Stats', 'In Game Stats'],\n",
       "      dtype=object)"
      ]
     },
     "execution_count": 59,
     "metadata": {},
     "output_type": "execute_result"
    }
   ],
   "source": [
    "fifa = pd.read_csv('FIFA Player Info.csv', keep_default_na = False)\n",
    "fifa = fifa.drop(columns='Unnamed: 0')\n",
    "\n",
    "axis_map = dict(zip(fifa.select_dtypes(include='int').columns.values, fifa.select_dtypes(include='int').columns.values))\n"
   ]
  },
  {
   "cell_type": "code",
   "execution_count": 47,
   "metadata": {},
   "outputs": [],
   "source": [
    "player = AutocompleteInput(title=\"Player Name\", completions=fifa.Name.tolist())\n",
    "overall_rating = RangeSlider(title=\"Overall Rating\", start=fifa['Overall Rating'].min(), end=fifa['Overall Rating'].max(), value=(fifa['Overall Rating'].min(), fifa['Overall Rating'].max()), step=1)\n",
    "skill = RangeSlider(title=\"Skill\", start=fifa['Skill'].min(), end=fifa['Skill'].max(), value=(fifa['Skill'].min(), fifa['Skill'].max()), step=1, default_size = 400)\n",
    "club = MultiSelect(title=\"Clubs\", options=fifa.sort_values('Club').Club.unique().tolist(), size =  10)\n",
    "league = MultiSelect(title=\"Leagues\", options=fifa.sort_values('League').League.unique().tolist(), size =  10)\n",
    "country = MultiSelect(title=\"Countries\", options=fifa.sort_values('Country').Country.unique().tolist(), size =  10)\n",
    "position = MultiSelect(title=\"Positions\", options=['CF', 'ST', 'RW', 'RF', 'LW', 'LF', 'RM', 'LM', 'CAM', 'CM', 'CDM', 'LB', 'LWB', 'RB', 'RWB', 'CB', 'GK'], size =  10)\n",
    "#continent = MultiSelect(title=\"Continent\", options=fifa.sort_values('Continent').Continent.unique().tolist())\n",
    "#position_group = CheckboxGroup(name=\"Position Group\", labels=fifa.sort_values('Position Group')['Position Group'].unique().tolist())\n",
    "x_axis = Select(title=\"X Axis\", options=sorted(axis_map.keys()), value=\"Pace\")\n",
    "y_axis = Select(title=\"Y Axis\", options=sorted(axis_map.keys()), value=\"Overall Rating\")"
   ]
  },
  {
   "cell_type": "code",
   "execution_count": 48,
   "metadata": {},
   "outputs": [
    {
     "data": {
      "text/html": [
       "<div style=\"display: table;\"><div style=\"display: table-row;\"><div style=\"display: table-cell;\"><b title=\"bokeh.models.renderers.GlyphRenderer\">GlyphRenderer</b>(</div><div style=\"display: table-cell;\">id&nbsp;=&nbsp;'1595', <span id=\"1607\" style=\"cursor: pointer;\">&hellip;)</span></div></div><div class=\"1606\" style=\"display: none;\"><div style=\"display: table-cell;\"></div><div style=\"display: table-cell;\">data_source&nbsp;=&nbsp;ColumnDataSource(id='1556', ...),</div></div><div class=\"1606\" style=\"display: none;\"><div style=\"display: table-cell;\"></div><div style=\"display: table-cell;\">glyph&nbsp;=&nbsp;Circle(id='1592', ...),</div></div><div class=\"1606\" style=\"display: none;\"><div style=\"display: table-cell;\"></div><div style=\"display: table-cell;\">hover_glyph&nbsp;=&nbsp;Circle(id='1594', ...),</div></div><div class=\"1606\" style=\"display: none;\"><div style=\"display: table-cell;\"></div><div style=\"display: table-cell;\">js_event_callbacks&nbsp;=&nbsp;{},</div></div><div class=\"1606\" style=\"display: none;\"><div style=\"display: table-cell;\"></div><div style=\"display: table-cell;\">js_property_callbacks&nbsp;=&nbsp;{},</div></div><div class=\"1606\" style=\"display: none;\"><div style=\"display: table-cell;\"></div><div style=\"display: table-cell;\">level&nbsp;=&nbsp;'glyph',</div></div><div class=\"1606\" style=\"display: none;\"><div style=\"display: table-cell;\"></div><div style=\"display: table-cell;\">muted&nbsp;=&nbsp;False,</div></div><div class=\"1606\" style=\"display: none;\"><div style=\"display: table-cell;\"></div><div style=\"display: table-cell;\">muted_glyph&nbsp;=&nbsp;None,</div></div><div class=\"1606\" style=\"display: none;\"><div style=\"display: table-cell;\"></div><div style=\"display: table-cell;\">name&nbsp;=&nbsp;None,</div></div><div class=\"1606\" style=\"display: none;\"><div style=\"display: table-cell;\"></div><div style=\"display: table-cell;\">nonselection_glyph&nbsp;=&nbsp;Circle(id='1593', ...),</div></div><div class=\"1606\" style=\"display: none;\"><div style=\"display: table-cell;\"></div><div style=\"display: table-cell;\">selection_glyph&nbsp;=&nbsp;None,</div></div><div class=\"1606\" style=\"display: none;\"><div style=\"display: table-cell;\"></div><div style=\"display: table-cell;\">subscribed_events&nbsp;=&nbsp;[],</div></div><div class=\"1606\" style=\"display: none;\"><div style=\"display: table-cell;\"></div><div style=\"display: table-cell;\">tags&nbsp;=&nbsp;[],</div></div><div class=\"1606\" style=\"display: none;\"><div style=\"display: table-cell;\"></div><div style=\"display: table-cell;\">view&nbsp;=&nbsp;CDSView(id='1596', ...),</div></div><div class=\"1606\" style=\"display: none;\"><div style=\"display: table-cell;\"></div><div style=\"display: table-cell;\">visible&nbsp;=&nbsp;True,</div></div><div class=\"1606\" style=\"display: none;\"><div style=\"display: table-cell;\"></div><div style=\"display: table-cell;\">x_range_name&nbsp;=&nbsp;'default',</div></div><div class=\"1606\" style=\"display: none;\"><div style=\"display: table-cell;\"></div><div style=\"display: table-cell;\">y_range_name&nbsp;=&nbsp;'default')</div></div></div>\n",
       "<script>\n",
       "(function() {\n",
       "  var expanded = false;\n",
       "  var ellipsis = document.getElementById(\"1607\");\n",
       "  ellipsis.addEventListener(\"click\", function() {\n",
       "    var rows = document.getElementsByClassName(\"1606\");\n",
       "    for (var i = 0; i < rows.length; i++) {\n",
       "      var el = rows[i];\n",
       "      el.style.display = expanded ? \"none\" : \"table-row\";\n",
       "    }\n",
       "    ellipsis.innerHTML = expanded ? \"&hellip;)\" : \"&lsaquo;&lsaquo;&lsaquo;\";\n",
       "    expanded = !expanded;\n",
       "  });\n",
       "})();\n",
       "</script>\n"
      ],
      "text/plain": [
       "GlyphRenderer(id='1595', ...)"
      ]
     },
     "execution_count": 48,
     "metadata": {},
     "output_type": "execute_result"
    }
   ],
   "source": [
    "source = ColumnDataSource(data=dict(x=[], y=[], color=[], legend=[], player=[], overallrating=[], club=[], league=[], country = [], position=[]))\n",
    "TOOLTIPS=[\n",
    "    (\"Player\", \"@player\"),\n",
    "    (\"Overall Rating\", \"@overallrating\"),\n",
    "    (\"Club\", \"@club\"),\n",
    "    (\"League\", \"@league\"),\n",
    "    (\"Country\", \"@country\"),\n",
    "    (\"Position\", \"@position\")\n",
    "]\n",
    "p = figure(plot_height=600, plot_width=700, tooltips=TOOLTIPS, sizing_mode=\"scale_both\")\n",
    "# p.circle(x=\"x\", y=\"y\", source=source, size=7, line_color='grey', hover_fill_color='black', \n",
    "#          hover_alpha=0.5)\n",
    "p.circle(x=\"x\", y=\"y\", source=source, size=7, color = \"color\", line_color='grey', hover_fill_color='black', \n",
    "         hover_alpha=0.5, legend=\"legend\")\n",
    "#grid = gridplot([[inputs, p]])\n",
    "\n"
   ]
  },
  {
   "cell_type": "code",
   "execution_count": 49,
   "metadata": {},
   "outputs": [],
   "source": [
    "desc = Div(text=\"\"\"<style>\n",
    "h1 {\n",
    "    margin: 1em 0 0 0;\n",
    "    color: #2e484c;\n",
    "    font-family: 'Julius Sans One', sans-serif;\n",
    "    font-size: 1.8em;\n",
    "    text-transform: uppercase;\n",
    "}\n",
    "a:link {\n",
    "    font-weight: bold;\n",
    "    text-decoration: none;\n",
    "    color: #0d8ba1;\n",
    "}\n",
    "a:visited {\n",
    "    font-weight: bold;\n",
    "    text-decoration: none;\n",
    "    color: #1a5952;\n",
    "}\n",
    "a:hover, a:focus, a:active {\n",
    "    text-decoration: underline;\n",
    "    color: #9685BA;\n",
    "}\n",
    "p {\n",
    "    font: \"Libre Baskerville\", sans-serif;\n",
    "    text-align: justify;\n",
    "    text-justify: inter-word;\n",
    "    width: 80%;\n",
    "    max-width: 800;\n",
    "}\n",
    "\n",
    "</style>\n",
    "\n",
    "<h1>An Interactive Explorer of FIFA 2020 Player Data</h1>\n",
    "\n",
    "<p>\n",
    "Interact with the widgets on the left to query a subset of players to plot.\n",
    "Hover over the circles to see more information about each player.\n",
    "</p>\"\"\",\n",
    "sizing_mode=\"stretch_width\")\n"
   ]
  },
  {
   "cell_type": "code",
   "execution_count": 50,
   "metadata": {},
   "outputs": [],
   "source": [
    "def select_fifa():\n",
    "    overall_rating_val = overall_rating.value\n",
    "    skill_level = skill.value\n",
    "    player_val = player.value\n",
    "    league_val = league.value\n",
    "    club_val = club.value\n",
    "    country_val = country.value\n",
    "    position_val = position.value\n",
    "    selected = fifa[\n",
    "        (fifa['Overall Rating'] >= overall_rating_val[0]) &\n",
    "        (fifa['Overall Rating'] <= overall_rating_val[1]) &\n",
    "        (fifa['Skill'] >= skill_level[0]) &\n",
    "        (fifa['Skill'] <= skill_level[1])\n",
    "    ]\n",
    "    if (player_val != \"\"):\n",
    "        selected = selected[selected.Name.str.contains(player.value)==True]\n",
    "    if (len(league_val) != 0):\n",
    "        selected = selected[selected.League.isin(league_val)==True]\n",
    "    if (len(club_val) != 0):\n",
    "        selected = selected[selected.Club.isin(club_val)==True]\n",
    "    if (len(country_val) != 0):\n",
    "        selected = selected[selected.Country.isin(country_val)==True]\n",
    "    if (len(position_val) != 0):\n",
    "        selected = selected[selected.Position.isin(position_val)==True]\n",
    "    per75 = np.percentile(selected[y_axis.value], 75)\n",
    "    per50 = np.percentile(selected[y_axis.value], 50)\n",
    "    per25 = np.percentile(selected[y_axis.value], 25)\n",
    "    selected[\"color\"] = np.where(selected[y_axis.value] > per50, np.where(selected[y_axis.value] > per75,'#29788E', '#79D151'),\n",
    "                       np.where(selected[y_axis.value] < per25, '#8C2980', '#FD9F6C') ) \n",
    "\n",
    "    selected[\"legend\"] = np.where(selected[y_axis.value] > per50, np.where(selected[y_axis.value] > per75,'Top 25th Percentile', '75th Percentile'),\n",
    "                        np.where(selected[y_axis.value] < per25, 'Bottom 25th Percentile', '50th Percentile') )\n",
    "    \n",
    "    return selected\n",
    "\n",
    "def update():\n",
    "    df = select_fifa()\n",
    "    #print(df['legend'])\n",
    "    x_name = axis_map[x_axis.value]\n",
    "    y_name = axis_map[y_axis.value]\n",
    "    \n",
    "    p.xaxis.axis_label = x_axis.value\n",
    "    p.yaxis.axis_label = y_axis.value\n",
    "    p.title.text = str(len(df)) + \" Players selected                                                              \" + x_axis.value + ' vs ' + y_axis.value\n",
    "    p.title.text_font_size = '16pt'\n",
    "    p.xaxis.axis_label_text_font_size = \"14pt\"\n",
    "    p.yaxis.axis_label_text_font_size = \"14pt\"\n",
    "    p.xaxis.major_label_text_font_size = \"12pt\"\n",
    "    p.yaxis.major_label_text_font_size = \"12pt\"\n",
    "    p.legend.location = \"top_left\"\n",
    "    #p.legend.click_policy=\"hide\"\n",
    "    \n",
    "    source.data = dict(\n",
    "        x=df[x_name],\n",
    "        y=df[y_name],\n",
    "        color=df[\"color\"],\n",
    "        legend=df[\"legend\"],\n",
    "        player=df[\"Name\"],\n",
    "        club=df[\"Club\"], \n",
    "        league=df[\"League\"], \n",
    "        position=df[\"Position\"], \n",
    "        country=df['Country'],\n",
    "        overallrating=df[\"Overall Rating\"],\n",
    "    )\n"
   ]
  },
  {
   "cell_type": "code",
   "execution_count": 51,
   "metadata": {},
   "outputs": [
    {
     "ename": "RuntimeError",
     "evalue": "Models must be owned by only a single document, Circle(id='1047', ...) is already in a doc",
     "output_type": "error",
     "traceback": [
      "\u001b[0;31m---------------------------------------------------------------------------\u001b[0m",
      "\u001b[0;31mRuntimeError\u001b[0m                              Traceback (most recent call last)",
      "\u001b[0;32m<ipython-input-51-67e473077a93>\u001b[0m in \u001b[0;36m<module>\u001b[0;34m\u001b[0m\n\u001b[1;32m     17\u001b[0m \u001b[0;34m\u001b[0m\u001b[0m\n\u001b[1;32m     18\u001b[0m \u001b[0;31m#curdoc().add_root(tabs)\u001b[0m\u001b[0;34m\u001b[0m\u001b[0;34m\u001b[0m\u001b[0;34m\u001b[0m\u001b[0m\n\u001b[0;32m---> 19\u001b[0;31m \u001b[0mcurdoc\u001b[0m\u001b[0;34m(\u001b[0m\u001b[0;34m)\u001b[0m\u001b[0;34m.\u001b[0m\u001b[0madd_root\u001b[0m\u001b[0;34m(\u001b[0m\u001b[0ml\u001b[0m\u001b[0;34m)\u001b[0m\u001b[0;34m\u001b[0m\u001b[0;34m\u001b[0m\u001b[0m\n\u001b[0m\u001b[1;32m     20\u001b[0m \u001b[0mcurdoc\u001b[0m\u001b[0;34m(\u001b[0m\u001b[0;34m)\u001b[0m\u001b[0;34m.\u001b[0m\u001b[0mtitle\u001b[0m \u001b[0;34m=\u001b[0m \u001b[0;34m\"FIFA Players\"\u001b[0m\u001b[0;34m\u001b[0m\u001b[0;34m\u001b[0m\u001b[0m\n",
      "\u001b[0;32m/opt/anaconda3/lib/python3.7/site-packages/bokeh/document/document.py\u001b[0m in \u001b[0;36madd_root\u001b[0;34m(self, model, setter)\u001b[0m\n\u001b[1;32m    302\u001b[0m             \u001b[0mself\u001b[0m\u001b[0;34m.\u001b[0m\u001b[0m_roots\u001b[0m\u001b[0;34m.\u001b[0m\u001b[0mappend\u001b[0m\u001b[0;34m(\u001b[0m\u001b[0mmodel\u001b[0m\u001b[0;34m)\u001b[0m\u001b[0;34m\u001b[0m\u001b[0;34m\u001b[0m\u001b[0m\n\u001b[1;32m    303\u001b[0m         \u001b[0;32mfinally\u001b[0m\u001b[0;34m:\u001b[0m\u001b[0;34m\u001b[0m\u001b[0;34m\u001b[0m\u001b[0m\n\u001b[0;32m--> 304\u001b[0;31m             \u001b[0mself\u001b[0m\u001b[0;34m.\u001b[0m\u001b[0m_pop_all_models_freeze\u001b[0m\u001b[0;34m(\u001b[0m\u001b[0;34m)\u001b[0m\u001b[0;34m\u001b[0m\u001b[0;34m\u001b[0m\u001b[0m\n\u001b[0m\u001b[1;32m    305\u001b[0m         \u001b[0mself\u001b[0m\u001b[0;34m.\u001b[0m\u001b[0m_trigger_on_change\u001b[0m\u001b[0;34m(\u001b[0m\u001b[0mRootAddedEvent\u001b[0m\u001b[0;34m(\u001b[0m\u001b[0mself\u001b[0m\u001b[0;34m,\u001b[0m \u001b[0mmodel\u001b[0m\u001b[0;34m,\u001b[0m \u001b[0msetter\u001b[0m\u001b[0;34m)\u001b[0m\u001b[0;34m)\u001b[0m\u001b[0;34m\u001b[0m\u001b[0;34m\u001b[0m\u001b[0m\n\u001b[1;32m    306\u001b[0m \u001b[0;34m\u001b[0m\u001b[0m\n",
      "\u001b[0;32m/opt/anaconda3/lib/python3.7/site-packages/bokeh/document/document.py\u001b[0m in \u001b[0;36m_pop_all_models_freeze\u001b[0;34m(self)\u001b[0m\n\u001b[1;32m   1017\u001b[0m         \u001b[0mself\u001b[0m\u001b[0;34m.\u001b[0m\u001b[0m_all_models_freeze_count\u001b[0m \u001b[0;34m-=\u001b[0m \u001b[0;36m1\u001b[0m\u001b[0;34m\u001b[0m\u001b[0;34m\u001b[0m\u001b[0m\n\u001b[1;32m   1018\u001b[0m         \u001b[0;32mif\u001b[0m \u001b[0mself\u001b[0m\u001b[0;34m.\u001b[0m\u001b[0m_all_models_freeze_count\u001b[0m \u001b[0;34m==\u001b[0m \u001b[0;36m0\u001b[0m\u001b[0;34m:\u001b[0m\u001b[0;34m\u001b[0m\u001b[0;34m\u001b[0m\u001b[0m\n\u001b[0;32m-> 1019\u001b[0;31m             \u001b[0mself\u001b[0m\u001b[0;34m.\u001b[0m\u001b[0m_recompute_all_models\u001b[0m\u001b[0;34m(\u001b[0m\u001b[0;34m)\u001b[0m\u001b[0;34m\u001b[0m\u001b[0;34m\u001b[0m\u001b[0m\n\u001b[0m\u001b[1;32m   1020\u001b[0m \u001b[0;34m\u001b[0m\u001b[0m\n\u001b[1;32m   1021\u001b[0m     \u001b[0;32mdef\u001b[0m \u001b[0m_recompute_all_models\u001b[0m\u001b[0;34m(\u001b[0m\u001b[0mself\u001b[0m\u001b[0;34m)\u001b[0m\u001b[0;34m:\u001b[0m\u001b[0;34m\u001b[0m\u001b[0;34m\u001b[0m\u001b[0m\n",
      "\u001b[0;32m/opt/anaconda3/lib/python3.7/site-packages/bokeh/document/document.py\u001b[0m in \u001b[0;36m_recompute_all_models\u001b[0;34m(self)\u001b[0m\n\u001b[1;32m   1040\u001b[0m             \u001b[0md\u001b[0m\u001b[0;34m.\u001b[0m\u001b[0m_detach_document\u001b[0m\u001b[0;34m(\u001b[0m\u001b[0;34m)\u001b[0m\u001b[0;34m\u001b[0m\u001b[0;34m\u001b[0m\u001b[0m\n\u001b[1;32m   1041\u001b[0m         \u001b[0;32mfor\u001b[0m \u001b[0ma\u001b[0m \u001b[0;32min\u001b[0m \u001b[0mto_attach\u001b[0m\u001b[0;34m:\u001b[0m\u001b[0;34m\u001b[0m\u001b[0;34m\u001b[0m\u001b[0m\n\u001b[0;32m-> 1042\u001b[0;31m             \u001b[0ma\u001b[0m\u001b[0;34m.\u001b[0m\u001b[0m_attach_document\u001b[0m\u001b[0;34m(\u001b[0m\u001b[0mself\u001b[0m\u001b[0;34m)\u001b[0m\u001b[0;34m\u001b[0m\u001b[0;34m\u001b[0m\u001b[0m\n\u001b[0m\u001b[1;32m   1043\u001b[0m         \u001b[0mself\u001b[0m\u001b[0;34m.\u001b[0m\u001b[0m_all_models\u001b[0m \u001b[0;34m=\u001b[0m \u001b[0mrecomputed\u001b[0m\u001b[0;34m\u001b[0m\u001b[0;34m\u001b[0m\u001b[0m\n\u001b[1;32m   1044\u001b[0m         \u001b[0mself\u001b[0m\u001b[0;34m.\u001b[0m\u001b[0m_all_models_by_name\u001b[0m \u001b[0;34m=\u001b[0m \u001b[0mrecomputed_by_name\u001b[0m\u001b[0;34m\u001b[0m\u001b[0;34m\u001b[0m\u001b[0m\n",
      "\u001b[0;32m/opt/anaconda3/lib/python3.7/site-packages/bokeh/model.py\u001b[0m in \u001b[0;36m_attach_document\u001b[0;34m(self, doc)\u001b[0m\n\u001b[1;32m    712\u001b[0m         '''\n\u001b[1;32m    713\u001b[0m         \u001b[0;32mif\u001b[0m \u001b[0mself\u001b[0m\u001b[0;34m.\u001b[0m\u001b[0m_document\u001b[0m \u001b[0;32mis\u001b[0m \u001b[0;32mnot\u001b[0m \u001b[0;32mNone\u001b[0m \u001b[0;32mand\u001b[0m \u001b[0mself\u001b[0m\u001b[0;34m.\u001b[0m\u001b[0m_document\u001b[0m \u001b[0;32mis\u001b[0m \u001b[0;32mnot\u001b[0m \u001b[0mdoc\u001b[0m\u001b[0;34m:\u001b[0m\u001b[0;34m\u001b[0m\u001b[0;34m\u001b[0m\u001b[0m\n\u001b[0;32m--> 714\u001b[0;31m             \u001b[0;32mraise\u001b[0m \u001b[0mRuntimeError\u001b[0m\u001b[0;34m(\u001b[0m\u001b[0;34m\"Models must be owned by only a single document, %r is already in a doc\"\u001b[0m \u001b[0;34m%\u001b[0m \u001b[0;34m(\u001b[0m\u001b[0mself\u001b[0m\u001b[0;34m)\u001b[0m\u001b[0;34m)\u001b[0m\u001b[0;34m\u001b[0m\u001b[0;34m\u001b[0m\u001b[0m\n\u001b[0m\u001b[1;32m    715\u001b[0m         \u001b[0mdoc\u001b[0m\u001b[0;34m.\u001b[0m\u001b[0mtheme\u001b[0m\u001b[0;34m.\u001b[0m\u001b[0mapply_to_model\u001b[0m\u001b[0;34m(\u001b[0m\u001b[0mself\u001b[0m\u001b[0;34m)\u001b[0m\u001b[0;34m\u001b[0m\u001b[0;34m\u001b[0m\u001b[0m\n\u001b[1;32m    716\u001b[0m         \u001b[0mself\u001b[0m\u001b[0;34m.\u001b[0m\u001b[0m_document\u001b[0m \u001b[0;34m=\u001b[0m \u001b[0mdoc\u001b[0m\u001b[0;34m\u001b[0m\u001b[0;34m\u001b[0m\u001b[0m\n",
      "\u001b[0;31mRuntimeError\u001b[0m: Models must be owned by only a single document, Circle(id='1047', ...) is already in a doc"
     ]
    }
   ],
   "source": [
    "controls = [player, overall_rating, skill, league, club, country, position, x_axis, y_axis]\n",
    "for control in controls:\n",
    "    control.on_change('value', lambda attr, old, new: update())\n",
    "\n",
    "inputs = column(*controls, width=320, height=1000)\n",
    "inputs.sizing_mode = \"fixed\"\n",
    "\n",
    "l = layout([\n",
    "    [desc],\n",
    "    [inputs, p],\n",
    "], sizing_mode=\"scale_both\")\n",
    "\n",
    "#first_tab = Panel(child = l, title = 'Overview')\n",
    "#tabs = Tabs(tabs =[first_tab])\n",
    "\n",
    "update() # initial load of the data\n",
    "\n",
    "#curdoc().add_root(tabs)\n",
    "curdoc().add_root(l)\n",
    "curdoc().title = \"FIFA Players\""
   ]
  },
  {
   "cell_type": "code",
   "execution_count": null,
   "metadata": {},
   "outputs": [],
   "source": []
  }
 ],
 "metadata": {
  "kernelspec": {
   "display_name": "Python 3",
   "language": "python",
   "name": "python3"
  },
  "language_info": {
   "codemirror_mode": {
    "name": "ipython",
    "version": 3
   },
   "file_extension": ".py",
   "mimetype": "text/x-python",
   "name": "python",
   "nbconvert_exporter": "python",
   "pygments_lexer": "ipython3",
   "version": "3.7.4"
  }
 },
 "nbformat": 4,
 "nbformat_minor": 2
}
